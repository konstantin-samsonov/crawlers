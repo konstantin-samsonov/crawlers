{
 "cells": [
  {
   "cell_type": "code",
   "execution_count": 130,
   "metadata": {
    "collapsed": true,
    "ExecuteTime": {
     "end_time": "2023-10-29T14:11:27.946855Z",
     "start_time": "2023-10-29T14:11:27.940240Z"
    }
   },
   "outputs": [],
   "source": [
    "import pandas as pd"
   ]
  },
  {
   "cell_type": "code",
   "execution_count": 208,
   "outputs": [],
   "source": [
    "df = pd.read_csv('belgrade_ads.csv', header=None)\n",
    "df.columns = [\"i\",\"title\", \"link\", \"price\", \"currency\", \"params\", \"owner\"]\n",
    "df.drop([\"i\"], axis=1, inplace=True)"
   ],
   "metadata": {
    "collapsed": false,
    "ExecuteTime": {
     "end_time": "2023-10-29T14:28:26.396232Z",
     "start_time": "2023-10-29T14:28:26.358430Z"
    }
   }
  },
  {
   "cell_type": "code",
   "execution_count": 209,
   "outputs": [],
   "source": [
    "df[\"price\"] = df[\"price\"].str.replace(\",\",\"\")\n",
    "df[\"price\"] = df[\"price\"].astype(\"int\")\n",
    "df[\"currency\"] = df[\"currency\"].str.extract('(€)')\n",
    "df[\"bedrooms\"] = df[\"params\"].str.extract(\"(\\d+)\\s..Bedrooms\")\n",
    "df[\"bedrooms\"] = df[\"bedrooms\"] .astype(\"float\")\n",
    "df[\"bathroom\"] = df[\"params\"].str.extract(\"(\\d+)\\s..Bathroom\")\n",
    "df[\"bathroom\"] = df[\"bathroom\"].astype(\"float\")"
   ],
   "metadata": {
    "collapsed": false,
    "ExecuteTime": {
     "end_time": "2023-10-29T14:28:26.687278Z",
     "start_time": "2023-10-29T14:28:26.654129Z"
    }
   }
  },
  {
   "cell_type": "code",
   "execution_count": 210,
   "outputs": [],
   "source": [
    "df[\"type\"] = df[\"title\"].str.extract(\"(\\w+)\\s\")\n",
    "df[\"size_m2\"] = df[\"title\"].str.extract(\"\\w+\\s(\\w+)\\sm2\")\n",
    "df[\"size_m2\"] = df[\"size_m2\"].astype(\"float\")\n",
    "df[\"deal\"] = df[\"title\"].str.extract(\"(for\\s\\w+)\\s\")\n",
    "df[\"area_1\"] = df[\"title\"].str.extract(\"for\\ssale(.+),\")\n",
    "df[\"area_2\"] = df[\"title\"].str.extract(\",(.+)\")\n",
    "\n",
    "df[\"link\"] = df[\"link\"].str.extract(\"(.+)\\?position=\")"
   ],
   "metadata": {
    "collapsed": false,
    "ExecuteTime": {
     "end_time": "2023-10-29T14:28:26.993782Z",
     "start_time": "2023-10-29T14:28:26.989683Z"
    }
   }
  },
  {
   "cell_type": "code",
   "execution_count": 211,
   "outputs": [],
   "source": [
    "df = df[['title', 'price', 'currency', 'bedrooms', 'bathroom', 'type', 'size_m2', 'deal', 'area_1', 'area_2', 'link', 'owner']].copy()"
   ],
   "metadata": {
    "collapsed": false,
    "ExecuteTime": {
     "end_time": "2023-10-29T14:28:27.340752Z",
     "start_time": "2023-10-29T14:28:27.324721Z"
    }
   }
  },
  {
   "cell_type": "code",
   "execution_count": 212,
   "outputs": [
    {
     "data": {
      "text/plain": "(13284, 12)"
     },
     "execution_count": 212,
     "metadata": {},
     "output_type": "execute_result"
    }
   ],
   "source": [
    "df.shape"
   ],
   "metadata": {
    "collapsed": false,
    "ExecuteTime": {
     "end_time": "2023-10-29T14:28:27.960061Z",
     "start_time": "2023-10-29T14:28:27.951725Z"
    }
   }
  },
  {
   "cell_type": "code",
   "execution_count": 213,
   "outputs": [
    {
     "name": "stdout",
     "output_type": "stream",
     "text": [
      "<class 'pandas.core.frame.DataFrame'>\n",
      "RangeIndex: 13284 entries, 0 to 13283\n",
      "Data columns (total 12 columns):\n",
      " #   Column    Non-Null Count  Dtype  \n",
      "---  ------    --------------  -----  \n",
      " 0   title     13284 non-null  object \n",
      " 1   price     13284 non-null  int64  \n",
      " 2   currency  13284 non-null  object \n",
      " 3   bedrooms  9320 non-null   float64\n",
      " 4   bathroom  8866 non-null   float64\n",
      " 5   type      13284 non-null  object \n",
      " 6   size_m2   13272 non-null  float64\n",
      " 7   deal      13284 non-null  object \n",
      " 8   area_1    13284 non-null  object \n",
      " 9   area_2    13284 non-null  object \n",
      " 10  link      13284 non-null  object \n",
      " 11  owner     13284 non-null  object \n",
      "dtypes: float64(3), int64(1), object(8)\n",
      "memory usage: 1.2+ MB\n"
     ]
    }
   ],
   "source": [
    "df.info()"
   ],
   "metadata": {
    "collapsed": false,
    "ExecuteTime": {
     "end_time": "2023-10-29T14:28:28.484546Z",
     "start_time": "2023-10-29T14:28:28.479675Z"
    }
   }
  },
  {
   "cell_type": "code",
   "execution_count": 214,
   "outputs": [
    {
     "data": {
      "text/plain": "                                                  title   price currency  \\\n0           Apartment 68 m2 for sale Palilula, Visnjica   73000        €   \n1      Apartment 67 m2 for sale Rakovica, Kanarevo brdo  110000        €   \n2              Apartment 112 m2 for sale Vracar, Cubura  310000        €   \n3          Apartment 122 m2 for sale Stari Grad, Center  400000        €   \n4               Apartment 78 m2 for sale Zemun, Meandri  159000        €   \n...                                                 ...     ...      ...   \n13279    Apartment 61 m2 for sale Cukarica, Banovo Brdo  155550        €   \n13280    Apartment 47 m2 for sale Cukarica, Banovo Brdo  120000        €   \n13281         Apartment 88 m2 for sale Zvezdara, Djeram  235520        €   \n13282     Apartment 42 m2 for sale New Belgrade, Ledine   63000        €   \n13283       Apartment 55 m2 for sale Zemun, Zemun Polje   69000        €   \n\n       bedrooms  bathroom       type  size_m2      deal         area_1  \\\n0           2.0       1.0  Apartment     68.0  for sale       Palilula   \n1           2.0       NaN  Apartment     67.0  for sale       Rakovica   \n2           3.0       NaN  Apartment    112.0  for sale         Vracar   \n3           3.0       1.0  Apartment    122.0  for sale     Stari Grad   \n4           3.0       2.0  Apartment     78.0  for sale          Zemun   \n...         ...       ...        ...      ...       ...            ...   \n13279       3.0       1.0  Apartment     61.0  for sale       Cukarica   \n13280       2.0       1.0  Apartment     47.0  for sale       Cukarica   \n13281       2.0       NaN  Apartment     88.0  for sale       Zvezdara   \n13282       NaN       NaN  Apartment     42.0  for sale   New Belgrade   \n13283       NaN       NaN  Apartment     55.0  for sale          Zemun   \n\n               area_2                                           link  \\\n0            Visnjica  https://www.srbija-nekretnine.org/en/98456819   \n1       Kanarevo brdo  https://www.srbija-nekretnine.org/en/98880267   \n2              Cubura  https://www.srbija-nekretnine.org/en/94954114   \n3              Center  https://www.srbija-nekretnine.org/en/98382487   \n4             Meandri  https://www.srbija-nekretnine.org/en/98929644   \n...               ...                                            ...   \n13279     Banovo Brdo  https://www.srbija-nekretnine.org/en/94196395   \n13280     Banovo Brdo  https://www.srbija-nekretnine.org/en/94196393   \n13281          Djeram  https://www.srbija-nekretnine.org/en/98803877   \n13282          Ledine  https://www.srbija-nekretnine.org/en/98456506   \n13283     Zemun Polje  https://www.srbija-nekretnine.org/en/98457937   \n\n                                                   owner  \n0      https://www.srbija-nekretnine.org/en/estate-ag...  \n1      https://www.srbija-nekretnine.org/en/estate-ag...  \n2      https://www.srbija-nekretnine.org/en/estate-ag...  \n3      https://www.srbija-nekretnine.org/en/estate-ag...  \n4      https://www.srbija-nekretnine.org/en/estate-ag...  \n...                                                  ...  \n13279  https://www.srbija-nekretnine.org/en/estate-ag...  \n13280  https://www.srbija-nekretnine.org/en/estate-ag...  \n13281  https://www.srbija-nekretnine.org/en/estate-ag...  \n13282  https://www.srbija-nekretnine.org/en/estate-ag...  \n13283  https://www.srbija-nekretnine.org/en/estate-ag...  \n\n[13284 rows x 12 columns]",
      "text/html": "<div>\n<style scoped>\n    .dataframe tbody tr th:only-of-type {\n        vertical-align: middle;\n    }\n\n    .dataframe tbody tr th {\n        vertical-align: top;\n    }\n\n    .dataframe thead th {\n        text-align: right;\n    }\n</style>\n<table border=\"1\" class=\"dataframe\">\n  <thead>\n    <tr style=\"text-align: right;\">\n      <th></th>\n      <th>title</th>\n      <th>price</th>\n      <th>currency</th>\n      <th>bedrooms</th>\n      <th>bathroom</th>\n      <th>type</th>\n      <th>size_m2</th>\n      <th>deal</th>\n      <th>area_1</th>\n      <th>area_2</th>\n      <th>link</th>\n      <th>owner</th>\n    </tr>\n  </thead>\n  <tbody>\n    <tr>\n      <th>0</th>\n      <td>Apartment 68 m2 for sale Palilula, Visnjica</td>\n      <td>73000</td>\n      <td>€</td>\n      <td>2.0</td>\n      <td>1.0</td>\n      <td>Apartment</td>\n      <td>68.0</td>\n      <td>for sale</td>\n      <td>Palilula</td>\n      <td>Visnjica</td>\n      <td>https://www.srbija-nekretnine.org/en/98456819</td>\n      <td>https://www.srbija-nekretnine.org/en/estate-ag...</td>\n    </tr>\n    <tr>\n      <th>1</th>\n      <td>Apartment 67 m2 for sale Rakovica, Kanarevo brdo</td>\n      <td>110000</td>\n      <td>€</td>\n      <td>2.0</td>\n      <td>NaN</td>\n      <td>Apartment</td>\n      <td>67.0</td>\n      <td>for sale</td>\n      <td>Rakovica</td>\n      <td>Kanarevo brdo</td>\n      <td>https://www.srbija-nekretnine.org/en/98880267</td>\n      <td>https://www.srbija-nekretnine.org/en/estate-ag...</td>\n    </tr>\n    <tr>\n      <th>2</th>\n      <td>Apartment 112 m2 for sale Vracar, Cubura</td>\n      <td>310000</td>\n      <td>€</td>\n      <td>3.0</td>\n      <td>NaN</td>\n      <td>Apartment</td>\n      <td>112.0</td>\n      <td>for sale</td>\n      <td>Vracar</td>\n      <td>Cubura</td>\n      <td>https://www.srbija-nekretnine.org/en/94954114</td>\n      <td>https://www.srbija-nekretnine.org/en/estate-ag...</td>\n    </tr>\n    <tr>\n      <th>3</th>\n      <td>Apartment 122 m2 for sale Stari Grad, Center</td>\n      <td>400000</td>\n      <td>€</td>\n      <td>3.0</td>\n      <td>1.0</td>\n      <td>Apartment</td>\n      <td>122.0</td>\n      <td>for sale</td>\n      <td>Stari Grad</td>\n      <td>Center</td>\n      <td>https://www.srbija-nekretnine.org/en/98382487</td>\n      <td>https://www.srbija-nekretnine.org/en/estate-ag...</td>\n    </tr>\n    <tr>\n      <th>4</th>\n      <td>Apartment 78 m2 for sale Zemun, Meandri</td>\n      <td>159000</td>\n      <td>€</td>\n      <td>3.0</td>\n      <td>2.0</td>\n      <td>Apartment</td>\n      <td>78.0</td>\n      <td>for sale</td>\n      <td>Zemun</td>\n      <td>Meandri</td>\n      <td>https://www.srbija-nekretnine.org/en/98929644</td>\n      <td>https://www.srbija-nekretnine.org/en/estate-ag...</td>\n    </tr>\n    <tr>\n      <th>...</th>\n      <td>...</td>\n      <td>...</td>\n      <td>...</td>\n      <td>...</td>\n      <td>...</td>\n      <td>...</td>\n      <td>...</td>\n      <td>...</td>\n      <td>...</td>\n      <td>...</td>\n      <td>...</td>\n      <td>...</td>\n    </tr>\n    <tr>\n      <th>13279</th>\n      <td>Apartment 61 m2 for sale Cukarica, Banovo Brdo</td>\n      <td>155550</td>\n      <td>€</td>\n      <td>3.0</td>\n      <td>1.0</td>\n      <td>Apartment</td>\n      <td>61.0</td>\n      <td>for sale</td>\n      <td>Cukarica</td>\n      <td>Banovo Brdo</td>\n      <td>https://www.srbija-nekretnine.org/en/94196395</td>\n      <td>https://www.srbija-nekretnine.org/en/estate-ag...</td>\n    </tr>\n    <tr>\n      <th>13280</th>\n      <td>Apartment 47 m2 for sale Cukarica, Banovo Brdo</td>\n      <td>120000</td>\n      <td>€</td>\n      <td>2.0</td>\n      <td>1.0</td>\n      <td>Apartment</td>\n      <td>47.0</td>\n      <td>for sale</td>\n      <td>Cukarica</td>\n      <td>Banovo Brdo</td>\n      <td>https://www.srbija-nekretnine.org/en/94196393</td>\n      <td>https://www.srbija-nekretnine.org/en/estate-ag...</td>\n    </tr>\n    <tr>\n      <th>13281</th>\n      <td>Apartment 88 m2 for sale Zvezdara, Djeram</td>\n      <td>235520</td>\n      <td>€</td>\n      <td>2.0</td>\n      <td>NaN</td>\n      <td>Apartment</td>\n      <td>88.0</td>\n      <td>for sale</td>\n      <td>Zvezdara</td>\n      <td>Djeram</td>\n      <td>https://www.srbija-nekretnine.org/en/98803877</td>\n      <td>https://www.srbija-nekretnine.org/en/estate-ag...</td>\n    </tr>\n    <tr>\n      <th>13282</th>\n      <td>Apartment 42 m2 for sale New Belgrade, Ledine</td>\n      <td>63000</td>\n      <td>€</td>\n      <td>NaN</td>\n      <td>NaN</td>\n      <td>Apartment</td>\n      <td>42.0</td>\n      <td>for sale</td>\n      <td>New Belgrade</td>\n      <td>Ledine</td>\n      <td>https://www.srbija-nekretnine.org/en/98456506</td>\n      <td>https://www.srbija-nekretnine.org/en/estate-ag...</td>\n    </tr>\n    <tr>\n      <th>13283</th>\n      <td>Apartment 55 m2 for sale Zemun, Zemun Polje</td>\n      <td>69000</td>\n      <td>€</td>\n      <td>NaN</td>\n      <td>NaN</td>\n      <td>Apartment</td>\n      <td>55.0</td>\n      <td>for sale</td>\n      <td>Zemun</td>\n      <td>Zemun Polje</td>\n      <td>https://www.srbija-nekretnine.org/en/98457937</td>\n      <td>https://www.srbija-nekretnine.org/en/estate-ag...</td>\n    </tr>\n  </tbody>\n</table>\n<p>13284 rows × 12 columns</p>\n</div>"
     },
     "execution_count": 214,
     "metadata": {},
     "output_type": "execute_result"
    }
   ],
   "source": [
    "df"
   ],
   "metadata": {
    "collapsed": false,
    "ExecuteTime": {
     "end_time": "2023-10-29T14:28:29.083202Z",
     "start_time": "2023-10-29T14:28:29.006942Z"
    }
   }
  },
  {
   "cell_type": "code",
   "execution_count": 215,
   "outputs": [],
   "source": [
    "df.to_csv(\"belgrad.csv\", index=False)"
   ],
   "metadata": {
    "collapsed": false,
    "ExecuteTime": {
     "end_time": "2023-10-29T14:28:56.070088Z",
     "start_time": "2023-10-29T14:28:56.001448Z"
    }
   }
  },
  {
   "cell_type": "code",
   "execution_count": 216,
   "outputs": [
    {
     "data": {
      "text/plain": "https://www.srbija-nekretnine.org/en/estate-agent/beocity-nekretnine/9766              770\nhttps://www.srbija-nekretnine.org/en/estate-agent/art-nekretnine/9816                  562\nhttps://www.srbija-nekretnine.org/en/estate-agent/lider-nekretnine-winner/10775        465\nhttps://www.srbija-nekretnine.org/en/estate-agent/beligrad-nekretnine-doo/11625        432\nhttps://www.srbija-nekretnine.org/en/estate-agent/europolis-real-estate/16309          410\n                                                                                      ... \nhttps://www.srbija-nekretnine.org/en/estate-agent/white-house-l.t.d./10754               1\nhttps://www.srbija-nekretnine.org/en/estate-agent/agencija-brankovic/14958               1\nhttps://www.srbija-nekretnine.org/en/estate-agent/real-estate-agency-stan-011/11824      1\nhttps://www.srbija-nekretnine.org/en/estate-agent/bg-nekretnine/10964                    1\nhttps://www.srbija-nekretnine.org/en/estate-agent/habitat-real-estate/17166              1\nName: owner, Length: 274, dtype: int64"
     },
     "execution_count": 216,
     "metadata": {},
     "output_type": "execute_result"
    }
   ],
   "source": [
    "df[\"owner\"].value_counts()"
   ],
   "metadata": {
    "collapsed": false,
    "ExecuteTime": {
     "end_time": "2023-10-29T14:42:53.385674Z",
     "start_time": "2023-10-29T14:42:53.377992Z"
    }
   }
  },
  {
   "cell_type": "code",
   "execution_count": 214,
   "outputs": [],
   "source": [],
   "metadata": {
    "collapsed": false,
    "ExecuteTime": {
     "end_time": "2023-10-29T14:28:31.653529Z",
     "start_time": "2023-10-29T14:28:31.630888Z"
    }
   }
  },
  {
   "cell_type": "code",
   "execution_count": 214,
   "outputs": [],
   "source": [],
   "metadata": {
    "collapsed": false,
    "ExecuteTime": {
     "end_time": "2023-10-29T14:28:33.399201Z",
     "start_time": "2023-10-29T14:28:33.383519Z"
    }
   }
  },
  {
   "cell_type": "code",
   "execution_count": 188,
   "outputs": [],
   "source": [],
   "metadata": {
    "collapsed": false,
    "ExecuteTime": {
     "end_time": "2023-10-29T14:23:05.913956Z",
     "start_time": "2023-10-29T14:23:05.865529Z"
    }
   }
  },
  {
   "cell_type": "code",
   "execution_count": null,
   "outputs": [],
   "source": [],
   "metadata": {
    "collapsed": false
   }
  },
  {
   "cell_type": "code",
   "execution_count": null,
   "outputs": [],
   "source": [],
   "metadata": {
    "collapsed": false
   }
  },
  {
   "cell_type": "code",
   "execution_count": 214,
   "outputs": [],
   "source": [],
   "metadata": {
    "collapsed": false,
    "ExecuteTime": {
     "end_time": "2023-10-29T14:28:35.263297Z",
     "start_time": "2023-10-29T14:28:35.250109Z"
    }
   }
  },
  {
   "cell_type": "code",
   "execution_count": null,
   "outputs": [],
   "source": [],
   "metadata": {
    "collapsed": false
   }
  }
 ],
 "metadata": {
  "kernelspec": {
   "display_name": "Python 3",
   "language": "python",
   "name": "python3"
  },
  "language_info": {
   "codemirror_mode": {
    "name": "ipython",
    "version": 2
   },
   "file_extension": ".py",
   "mimetype": "text/x-python",
   "name": "python",
   "nbconvert_exporter": "python",
   "pygments_lexer": "ipython2",
   "version": "2.7.6"
  }
 },
 "nbformat": 4,
 "nbformat_minor": 0
}
